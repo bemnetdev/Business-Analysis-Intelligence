{
 "cells": [
  {
   "cell_type": "code",
   "execution_count": null,
   "id": "bc23c9b6",
   "metadata": {},
   "outputs": [],
   "source": [
    "#Author : Bemnet Girma\n",
    "#Roll No. 2164006\n",
    "#KiiT University, Bhubanewar\n",
    "#Program : MTech in Data Analytics\n",
    "#Subject : Business Analytics Intelligence\n",
    "#Lab Assignment Week one"
   ]
  },
  {
   "cell_type": "code",
   "execution_count": 1,
   "id": "b4e00a6a",
   "metadata": {},
   "outputs": [
    {
     "name": "stdout",
     "output_type": "stream",
     "text": [
      "enter the first number:32\n",
      "enter the second number:47\n",
      "The sum of two numbers:  79\n"
     ]
    }
   ],
   "source": [
    "#Q1: Write a python program to add two integer number\n",
    "def add(num1, num2):\n",
    "    return num1 + num2\n",
    "num1 = int(input(\"enter the first number:\"))\n",
    "num2 = int(input(\"enter the second number:\"))\n",
    "sum = add(num1,num2)\n",
    "print(\"The sum of two numbers: \",sum)"
   ]
  },
  {
   "cell_type": "code",
   "execution_count": 2,
   "id": "dccea981",
   "metadata": {},
   "outputs": [
    {
     "name": "stdout",
     "output_type": "stream",
     "text": [
      "enter the number:25\n",
      "Result:  5.0\n"
     ]
    }
   ],
   "source": [
    "#Q2: Write a python program to find square root of a number\n",
    "import math \n",
    "def findSQRT(num):\n",
    "    return math.sqrt(num)\n",
    "\n",
    "num = int(input(\"enter the number:\"))\n",
    "res = findSQRT(num)\n",
    "print(\"Result: \",res)"
   ]
  },
  {
   "cell_type": "code",
   "execution_count": 3,
   "id": "14e7a0c3",
   "metadata": {},
   "outputs": [
    {
     "name": "stdout",
     "output_type": "stream",
     "text": [
      "enter the height of the traingle:8\n",
      "enter the width of the traingle:4\n",
      "Area :  16\n"
     ]
    }
   ],
   "source": [
    "#Q3: Write a python program to calculate the area of the triangle\n",
    "def traingleArea(width, height):\n",
    "    return 0.5*width*height\n",
    "height = int(input(\"enter the height of the traingle:\"))\n",
    "width = int(input(\"enter the width of the traingle:\"))\n",
    "area = int(traingleArea(width, height))\n",
    "print(\"Area : \",area)"
   ]
  },
  {
   "cell_type": "code",
   "execution_count": 4,
   "id": "49abecd5",
   "metadata": {},
   "outputs": [
    {
     "name": "stdout",
     "output_type": "stream",
     "text": [
      "Enter the temprature in celcius:37\n",
      "The temprature in farenheit:  98\n"
     ]
    }
   ],
   "source": [
    "#Q4: Write a python program to convert Celsius to Fahrenheit\n",
    "def celcius_to_farenheit(celcius):\n",
    "    return celcius*9.0/5.0+32.0\n",
    "\n",
    "celcius = int(input(\"Enter the temprature in celcius:\"))\n",
    "farenheit = int(celcius_to_farenheit(celcius))\n",
    "print(\"The temprature in farenheit: \", farenheit)"
   ]
  },
  {
   "cell_type": "code",
   "execution_count": 5,
   "id": "d9803e27",
   "metadata": {},
   "outputs": [
    {
     "name": "stdout",
     "output_type": "stream",
     "text": [
      "Enter any number you like to check: 7\n",
      "7 is an odd number\n"
     ]
    }
   ],
   "source": [
    "#Q5: Write a python program to check odd or even\n",
    "def check_odd_even(num):\n",
    "    if num%2==0:\n",
    "        print(\"{} is an even number\".format(num) )\n",
    "    else:\n",
    "        print(\"{} is an odd number\".format(num) )\n",
    "        \n",
    "num = int(input(\"Enter any number you like to check: \"))\n",
    "check_odd_even(num)"
   ]
  },
  {
   "cell_type": "code",
   "execution_count": 8,
   "id": "cbeb7964",
   "metadata": {},
   "outputs": [
    {
     "name": "stdout",
     "output_type": "stream",
     "text": [
      "enter the first number:23\n",
      "enter the second number:45\n",
      "enter the third number:32\n",
      "The largest of three numbers is 45\n"
     ]
    }
   ],
   "source": [
    "#Q6 : Write a python program to find the largest number among the three numbers\n",
    "def find_largest(num1, num2, num3):\n",
    "    if num1>num2:\n",
    "        if num1>num3:\n",
    "            return num1\n",
    "        else:\n",
    "            return num3\n",
    "    else:\n",
    "        if num2>num3:\n",
    "            return num2\n",
    "        else:\n",
    "            return num3\n",
    "\n",
    "num1 = int(input(\"enter the first number:\"))\n",
    "num2 = int(input(\"enter the second number:\"))\n",
    "num3 = int(input(\"enter the third number:\"))\n",
    "\n",
    "res = find_largest(num1, num2, num3)\n",
    "print(f'The largest of three numbers is {res}')"
   ]
  },
  {
   "cell_type": "code",
   "execution_count": 9,
   "id": "4c582b84",
   "metadata": {},
   "outputs": [
    {
     "name": "stdout",
     "output_type": "stream",
     "text": [
      "enter the number to find the factorial:3\n",
      "The factorial will be: 6\n"
     ]
    }
   ],
   "source": [
    "#Q7: Write a python program to find the factorial of the given number\n",
    "def factorial(num):\n",
    "    res =1\n",
    "    while num>0:\n",
    "        res= res*(num)\n",
    "        num =num -1\n",
    "    return res\n",
    "\n",
    "num = int(input(\"enter the number to find the factorial:\"))\n",
    "res = factorial(num)\n",
    "print(f'The factorial will be: {res}')"
   ]
  },
  {
   "cell_type": "code",
   "execution_count": 11,
   "id": "133bd2c0",
   "metadata": {},
   "outputs": [
    {
     "name": "stdout",
     "output_type": "stream",
     "text": [
      "enter the natural number to be added:34\n",
      "The sum of the number is 7\n"
     ]
    }
   ],
   "source": [
    "#Q8: Write a python program to find the sum of the natural number\n",
    "def sum(num):\n",
    "    res = 0\n",
    "    rem = 1\n",
    "    while rem>0:\n",
    "        rem = int(num%10)\n",
    "        num = int(num/10)\n",
    "        res = res+rem\n",
    "    return res\n",
    "num = int(input(\"enter the natural number to be added:\"))\n",
    "res = sum(int(num))\n",
    "print(f'The sum of the number is {res}')"
   ]
  },
  {
   "cell_type": "code",
   "execution_count": 12,
   "id": "d5f477fd",
   "metadata": {},
   "outputs": [
    {
     "name": "stdout",
     "output_type": "stream",
     "text": [
      "enter the first number:6\n",
      "enter the second number:12\n",
      "The GCD is 6\n"
     ]
    }
   ],
   "source": [
    "#Q9: Write a python program to GCD of two numbers\n",
    "import math\n",
    "num1 = int(input(\"enter the first number:\"))\n",
    "num2 = int(input(\"enter the second number:\"))\n",
    "result_gcd = math.gcd(num1, num2)\n",
    "print(f'The GCD is {result_gcd}')"
   ]
  },
  {
   "cell_type": "code",
   "execution_count": null,
   "id": "097e1f26",
   "metadata": {},
   "outputs": [],
   "source": [
    "#Q10: Write a python program to two numbers using recursions"
   ]
  }
 ],
 "metadata": {
  "kernelspec": {
   "display_name": "Python 3 (ipykernel)",
   "language": "python",
   "name": "python3"
  },
  "language_info": {
   "codemirror_mode": {
    "name": "ipython",
    "version": 3
   },
   "file_extension": ".py",
   "mimetype": "text/x-python",
   "name": "python",
   "nbconvert_exporter": "python",
   "pygments_lexer": "ipython3",
   "version": "3.9.7"
  }
 },
 "nbformat": 4,
 "nbformat_minor": 5
}
