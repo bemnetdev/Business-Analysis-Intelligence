{
 "cells": [
  {
   "cell_type": "code",
   "execution_count": null,
   "id": "34180832",
   "metadata": {},
   "outputs": [],
   "source": [
    "#Author : Bemnet Girma\n",
    "#Roll No. 2164006\n",
    "#KiiT University, Bhubanewar\n",
    "#Program : MTech in Data Analytics\n",
    "#Subject : Business Analytics Intelligence\n",
    "#Lab Assignment Week two"
   ]
  },
  {
   "cell_type": "code",
   "execution_count": 1,
   "id": "0ab3e6a2",
   "metadata": {},
   "outputs": [
    {
     "name": "stdout",
     "output_type": "stream",
     "text": [
      "enter the number:4\n",
      "square of 4 is 16\n"
     ]
    }
   ],
   "source": [
    "#Q1: Calculate square of a number\n",
    "def square(num):\n",
    "    return num*num\n",
    "\n",
    "num = int(input(\"enter the number:\"))\n",
    "res = square(num)\n",
    "print(f\"square of {num} is {res}\")"
   ]
  },
  {
   "cell_type": "code",
   "execution_count": 2,
   "id": "26bc8991",
   "metadata": {},
   "outputs": [
    {
     "name": "stdout",
     "output_type": "stream",
     "text": [
      "enter the first number:6\n",
      "enter the second number:2\n",
      "befor swapping\n",
      "\n",
      "num1 = 6, num2 = 2\n",
      "\n",
      " after swapping\n",
      "\n",
      "num1 = 2, num2 = 6\n"
     ]
    }
   ],
   "source": [
    "#Q2: Swap two numbers\n",
    "num1, num2 =0,0\n",
    "def swap(num1, num2):\n",
    "    tmp = num1\n",
    "    num1 = num2 \n",
    "    num2 = tmp\n",
    "    print(f\"num1 = {num1}, num2 = {num2}\")\n",
    "num1 = int(input(\"enter the first number:\"))\n",
    "num2 = int(input(\"enter the second number:\"))\n",
    "print(\"befor swapping\\n\")\n",
    "print(f\"num1 = {num1}, num2 = {num2}\")\n",
    "print(\"\\n after swapping\\n\")\n",
    "swap(num1,num2)"
   ]
  },
  {
   "cell_type": "code",
   "execution_count": 3,
   "id": "dd79ae02",
   "metadata": {},
   "outputs": [
    {
     "name": "stdout",
     "output_type": "stream",
     "text": [
      "enter the first num:21\n",
      "enter the second num:23\n",
      "The sum of 21 and 23 is 44\n"
     ]
    }
   ],
   "source": [
    "#Q3: Add two numbers\n",
    "def add(num1,num2):\n",
    "    return num1+num2\n",
    "num1 = int(input(\"enter the first num:\"))\n",
    "num2 = int(input(\"enter the second num:\"))\n",
    "res = add(num1,num2)\n",
    "print(f\"The sum of {num1} and {num2} is {res}\")"
   ]
  },
  {
   "cell_type": "code",
   "execution_count": 4,
   "id": "47c44768",
   "metadata": {},
   "outputs": [
    {
     "name": "stdout",
     "output_type": "stream",
     "text": [
      "enter the number:7\n",
      "the number is prime\n"
     ]
    }
   ],
   "source": [
    "#Q4: Identify a number is prime or not\n",
    "def isprime(num):\n",
    "    for n in range(2,int(num**1/2)+1):\n",
    "        if num%n==0:\n",
    "            return False\n",
    "    return True\n",
    "num = int(input(\"enter the number:\"))\n",
    "if(isprime(num)):\n",
    "    print(\"the number is prime\")\n",
    "else:\n",
    "    print(\"The number is not prime\")"
   ]
  },
  {
   "cell_type": "code",
   "execution_count": 7,
   "id": "a6042d12",
   "metadata": {},
   "outputs": [
    {
     "name": "stdout",
     "output_type": "stream",
     "text": [
      "enter the decimal number:2\n",
      "010"
     ]
    }
   ],
   "source": [
    "#Q5: Convert given decimal to binary\n",
    "def DecimalToBinary(num):\n",
    "\tif num >= 1:\n",
    "\t\tDecimalToBinary(num // 2)\n",
    "\tprint(num % 2, end = '')\n",
    "\n",
    "dec_val = int(input(\"enter the decimal number:\"))\n",
    "res = DecimalToBinary(dec_val)"
   ]
  },
  {
   "cell_type": "code",
   "execution_count": 8,
   "id": "cafcf414",
   "metadata": {},
   "outputs": [
    {
     "name": "stdout",
     "output_type": "stream",
     "text": [
      "enter the size of the array:5\n",
      "23\n",
      "12\n",
      "1\n",
      "43\n",
      "25\n",
      "Largest in given array is 43\n"
     ]
    }
   ],
   "source": [
    "#Q6: Find the largest number of an array\n",
    "i=0\n",
    "def largest(arr,n):\n",
    "    max = arr[0]\n",
    "    for i in range(1, n):\n",
    "        if arr[i]>max:\n",
    "            max = arr[i]\n",
    "    return max\n",
    "\n",
    "n = int(input(\"enter the size of the array:\"))\n",
    "arr = []\n",
    "for i in range(0,n):\n",
    "    element= int(input())\n",
    "    arr.append(element)\n",
    "n = len(arr)\n",
    "Ans = largest(arr,n)\n",
    "print (\"Largest in given array is\",Ans)"
   ]
  },
  {
   "cell_type": "code",
   "execution_count": 10,
   "id": "67627fdb",
   "metadata": {},
   "outputs": [
    {
     "name": "stdout",
     "output_type": "stream",
     "text": [
      " Please Enter any Number: 6\n",
      " 6 is a Perfect Number\n"
     ]
    }
   ],
   "source": [
    "#Q7: To print perfect numbers in a given range\n",
    "Number = int(input(\" Please Enter any Number: \"))\n",
    "Sum = 0\n",
    "for i in range(1, Number):\n",
    "    if(Number % i == 0):\n",
    "        Sum = Sum + i\n",
    "if (Sum == Number):\n",
    "    print(\" %d is a Perfect Number\" %Number)\n",
    "else:\n",
    "    print(\" %d is not a Perfect Number\" %Number)"
   ]
  },
  {
   "cell_type": "code",
   "execution_count": 16,
   "id": "7f08af3c",
   "metadata": {},
   "outputs": [
    {
     "name": "stdout",
     "output_type": "stream",
     "text": [
      "Enter a stringmom\n",
      "String 'mom' is palindrome\n"
     ]
    }
   ],
   "source": [
    "#Q8: To check whether a given string are palindrome or not\n",
    "def isPalindrome(s):\n",
    "    return s == s[::-1]\n",
    "\n",
    "s = input(\"Enter a string\")\n",
    "ans = isPalindrome(s)\n",
    " \n",
    "if ans:\n",
    "    print(f\"String '{s}' is palindrome\")\n",
    "else:\n",
    "    print(f\"String {s} is not palindrome\")"
   ]
  },
  {
   "cell_type": "code",
   "execution_count": 27,
   "id": "422c7760",
   "metadata": {},
   "outputs": [
    {
     "name": "stdout",
     "output_type": "stream",
     "text": [
      "enter the value of n:3\n",
      "Result: 2.5\n"
     ]
    }
   ],
   "source": [
    "#Q9: To find out sum of 1/1!+2/2!+3/3!+....n/n!\n",
    "def fact(n): \n",
    "    if n==1 or n==0:\n",
    "        return 1\n",
    "    else:\n",
    "        return n * fact(n-1)    \n",
    "def add(n):\n",
    "    sum =0\n",
    "    for i in range(0,n+1):\n",
    "        sum = sum + (i/fact(i))\n",
    "    return sum\n",
    "n = int(input(\"enter the value of n:\"))\n",
    "res = add(n)\n",
    "print(f\"Result: {res}\")"
   ]
  },
  {
   "cell_type": "code",
   "execution_count": 19,
   "id": "f3af73db",
   "metadata": {},
   "outputs": [
    {
     "name": "stdout",
     "output_type": "stream",
     "text": [
      "enter the size of the array:4\n",
      "5\n",
      "7\n",
      "2\n",
      "3\n",
      "Array after sorting\n"
     ]
    },
    {
     "data": {
      "text/plain": [
       "[2, 3, 5, 7]"
      ]
     },
     "execution_count": 19,
     "metadata": {},
     "output_type": "execute_result"
    }
   ],
   "source": [
    "#Q10: Sort the elements of array in ascending order.\n",
    "def swap(num1, num2):\n",
    "    temp = num1\n",
    "    num1 = num2 \n",
    "    num2 = temp\n",
    "def sorting(arr, n):\n",
    "    for i in range(1,n):\n",
    "        for j in range(0,i):\n",
    "            if arr[i]<arr[j]:\n",
    "                temp = arr[i]\n",
    "                arr[i] = arr[j] \n",
    "                arr[j] = temp\n",
    "    for i in range(0,n):\n",
    "        arry.append(arr[i])\n",
    "    return arry\n",
    "\n",
    "arry = []\n",
    "list01 = []\n",
    "n = int(input(\"enter the size of the array:\"))\n",
    "for i in range(0,n):\n",
    "    element = int(input())\n",
    "    list01.append(element)\n",
    "print(\"Array after sorting\")\n",
    "sorting(list01,n)"
   ]
  }
 ],
 "metadata": {
  "kernelspec": {
   "display_name": "Python 3 (ipykernel)",
   "language": "python",
   "name": "python3"
  },
  "language_info": {
   "codemirror_mode": {
    "name": "ipython",
    "version": 3
   },
   "file_extension": ".py",
   "mimetype": "text/x-python",
   "name": "python",
   "nbconvert_exporter": "python",
   "pygments_lexer": "ipython3",
   "version": "3.9.7"
  }
 },
 "nbformat": 4,
 "nbformat_minor": 5
}
