{
 "cells": [
  {
   "cell_type": "code",
   "execution_count": null,
   "id": "ff79dda8",
   "metadata": {},
   "outputs": [],
   "source": [
    "#Author : Bemnet Girma\n",
    "#Roll No. 2164006\n",
    "#KiiT University, Bhubanewar\n",
    "#Program : MTech in Data Analytics\n",
    "#Subject : Business Analytics Intelligence\n",
    "#Lab Assignment Week three"
   ]
  },
  {
   "cell_type": "code",
   "execution_count": 2,
   "id": "526dbdbb",
   "metadata": {},
   "outputs": [
    {
     "name": "stdout",
     "output_type": "stream",
     "text": [
      "1 Dimensional Array\n",
      "[0 1 2 3 4 5 6 7 8 9]\n"
     ]
    }
   ],
   "source": [
    "#Q1: Create 1-D array having 10 elements, find the dimensions of the array and sort the array elements in ascending order using Numpy\n",
    "\n",
    "import numpy as np\n",
    "#Creating 1-D array having 10 element\n",
    "arr = np.array([1,2,3,4,5,6,7,8,9,0])\n",
    "\n",
    "#Find the dimension of the array\n",
    "print(arr.ndim,\"Dimensional Array\")\n",
    "\n",
    "# sort the array elements in ascending order using Numpy\n",
    "arr = np.sort(arr)\n",
    "\n",
    "print(arr)"
   ]
  },
  {
   "cell_type": "code",
   "execution_count": 6,
   "id": "53b9dafb",
   "metadata": {},
   "outputs": [
    {
     "name": "stdout",
     "output_type": "stream",
     "text": [
      "Array One = [1 2 3 4 5 6]\n",
      "Array Two = [5 6 7 8 9 2]\n",
      "Merged Array = [1 2 3 4 5 6 5 6 7 8 9 2]\n"
     ]
    }
   ],
   "source": [
    "#Q2: Merge two array and display elements using Numpy\n",
    "\n",
    "import numpy as np\n",
    "arr1 = np.array([1,2,3,4,5,6])\n",
    "arr2 = np.array([5,6,7,8,9,2])\n",
    "merged_array = np.append(arr1,arr2)\n",
    "\n",
    "print(\"Array One =\", arr1)\n",
    "print(\"Array Two =\", arr2)\n",
    "print(\"Merged Array =\", merged_array)"
   ]
  },
  {
   "cell_type": "code",
   "execution_count": 7,
   "id": "0267057d",
   "metadata": {},
   "outputs": [
    {
     "name": "stdout",
     "output_type": "stream",
     "text": [
      "Addition of an array\n",
      "[[40 14 21]\n",
      " [24 55 55]\n",
      " [94 90 80]]\n",
      "\n",
      "\n",
      "Substraction of an array\n",
      "[[20 10  7]\n",
      " [ 8 45 33]\n",
      " [90 70 64]]\n",
      "\n",
      "\n",
      "Dividing an array\n",
      "[[ 3.  6.  2.]\n",
      " [ 2. 10.  4.]\n",
      " [46.  8.  9.]]\n",
      "\n",
      "\n",
      "Multiplications of an array\n",
      "[[ 976  780  732]\n",
      " [1332 1226 1124]\n",
      " [ 956 1164 1044]]\n",
      "\n",
      "\n"
     ]
    }
   ],
   "source": [
    "#Q3: Create two 2D array , perform, +, -, *\n",
    "\n",
    "import numpy as np\n",
    "\n",
    "arr1 = np.array([[10,2,7],[8,5,11],[2,10,8]])\n",
    "arr2 = np.array([[30,12,14],[16,50,44],[92,80,72]])\n",
    "\n",
    "#Adddition of two array\n",
    "added_array = arr1+arr2\n",
    "print(\"Addition of an array\")\n",
    "print(added_array)\n",
    "print(\"\\n\")\n",
    "\n",
    "#substractionof two array\n",
    "substracted_array = arr2-arr1\n",
    "print(\"Substraction of an array\")\n",
    "print(substracted_array)\n",
    "print(\"\\n\")\n",
    "\n",
    "#Dividing an array\n",
    "divided_array = arr2/arr1\n",
    "print(\"Dividing an array\")\n",
    "print(divided_array)\n",
    "print(\"\\n\")\n",
    "\n",
    "#Multiplication of an array\n",
    "multiplied_array = np.dot(arr1,arr2)\n",
    "print(\"Multiplications of an array\")\n",
    "print(multiplied_array)\n",
    "print(\"\\n\")"
   ]
  },
  {
   "cell_type": "code",
   "execution_count": 9,
   "id": "9c1309b7",
   "metadata": {},
   "outputs": [
    {
     "name": "stdout",
     "output_type": "stream",
     "text": [
      "\n",
      " The sum of each element: 180\n",
      "\n",
      "The maximum element is 63\n",
      "\n",
      "The minimum element is 63\n",
      "\n",
      "The mean of element is 30.0\n"
     ]
    }
   ],
   "source": [
    "#Q4: Create 1-D array, find out sum, max element, min element, mean\n",
    "\n",
    "import numpy as np\n",
    "arr = np.array([10,12,34,45,63,16])\n",
    "\n",
    "#Find ou the sum of each element\n",
    "sum = 0 \n",
    "i = 0\n",
    "for i in range(0,len(arr)):\n",
    "    sum = sum + arr[i]\n",
    "print(f\"\\n The sum of each element: {sum}\")\n",
    "\n",
    "#Max element\n",
    "MAX = arr[0]\n",
    "for i in range(0, len(arr)):\n",
    "    if MAX<arr[i]:\n",
    "        MAX = arr[i]\n",
    "    else:\n",
    "        continue\n",
    "print(f\"\\nThe maximum element is {MAX}\")\n",
    "\n",
    "#MIN element\n",
    "MIN = arr[0]\n",
    "for i in range(0, len(arr)):\n",
    "    if MIN>arr[i]:\n",
    "        MIN = arr[i]\n",
    "    else:\n",
    "        continue\n",
    "print(f\"\\nThe minimum element is {MAX}\")\n",
    "\n",
    "#MEAN of elemen\n",
    "res=0\n",
    "for i in range(0, len(arr)):\n",
    "    res = res+arr[i]\n",
    "mean = res/len(arr)\n",
    "print(f\"\\nThe mean of element is {mean}\")"
   ]
  },
  {
   "cell_type": "code",
   "execution_count": 10,
   "id": "815ffce3",
   "metadata": {},
   "outputs": [
    {
     "name": "stdout",
     "output_type": "stream",
     "text": [
      "enter the number:3\n",
      "The factorial of 3 is 6\n"
     ]
    }
   ],
   "source": [
    "#Q5: Find factorial using numpy library\n",
    "\n",
    "import numpy as np\n",
    "num = int(input(\"enter the number:\"))\n",
    "res = np.math.factorial(num)\n",
    "print(f\"The factorial of {num} is {res}\")"
   ]
  },
  {
   "cell_type": "code",
   "execution_count": 12,
   "id": "1673da18",
   "metadata": {},
   "outputs": [
    {
     "name": "stdout",
     "output_type": "stream",
     "text": [
      "[[6 8 1 3]\n",
      " [6 3 4 3]\n",
      " [9 9 9 5]]\n"
     ]
    }
   ],
   "source": [
    "#Q6: generate random array having dimensions of 3*4\n",
    "\n",
    "import numpy as np\n",
    "rand_array= np.random.randint(1,10, size=(3,4))\n",
    "print(rand_array)"
   ]
  },
  {
   "cell_type": "code",
   "execution_count": 13,
   "id": "9c928030",
   "metadata": {},
   "outputs": [
    {
     "name": "stdout",
     "output_type": "stream",
     "text": [
      "search a number from 1-10:4\n",
      "The number 4 is found at 3 index\n"
     ]
    }
   ],
   "source": [
    "#Q7: copy one array to another, search an element from the array\n",
    "\n",
    "import numpy as np\n",
    "arr = np.array([1,2,3,4,5,6,7,8,9,10]);\n",
    "\n",
    "print(\"Original Array:\",arr)\n",
    "\n",
    "#copy an array\n",
    "arr_copy = np.copy(arr)\n",
    "print(\"Copied Array:\",arr)\n",
    "\n",
    "\n",
    "num = int(input(\"search a number from 1-10:\"))\n",
    "for i in range(0,len(arr)):\n",
    "    if num == arr[i]:\n",
    "        print(f\"The number {num} is found at {i} index\")\n",
    "        break\n",
    "    else:\n",
    "        continue"
   ]
  },
  {
   "cell_type": "code",
   "execution_count": null,
   "id": "c6dd9a7d",
   "metadata": {},
   "outputs": [],
   "source": []
  }
 ],
 "metadata": {
  "kernelspec": {
   "display_name": "Python 3 (ipykernel)",
   "language": "python",
   "name": "python3"
  },
  "language_info": {
   "codemirror_mode": {
    "name": "ipython",
    "version": 3
   },
   "file_extension": ".py",
   "mimetype": "text/x-python",
   "name": "python",
   "nbconvert_exporter": "python",
   "pygments_lexer": "ipython3",
   "version": "3.9.7"
  }
 },
 "nbformat": 4,
 "nbformat_minor": 5
}
