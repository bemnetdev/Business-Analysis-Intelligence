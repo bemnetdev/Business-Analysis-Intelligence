{
 "cells": [
  {
   "cell_type": "markdown",
   "id": "f03478dc",
   "metadata": {},
   "source": [
    "# Week 04\n",
    "### Author : Bemnet Girma\n",
    "### Roll No. 2164006\n",
    "### KiiT University, Bhubanewar\n",
    "### Program : MTech in Data Analytics\n",
    "### Subject : Business Analytics Intelligence\n",
    "### Lab Assignment Week Four"
   ]
  },
  {
   "cell_type": "markdown",
   "id": "ec599b77",
   "metadata": {},
   "source": [
    "#### 1. Write a Pandas program to create and display a one-dimensional array-like object containing an array of data "
   ]
  },
  {
   "cell_type": "code",
   "execution_count": 3,
   "id": "58a6a56d",
   "metadata": {},
   "outputs": [
    {
     "name": "stdout",
     "output_type": "stream",
     "text": [
      "<PandasArray>\n",
      "[1, 2, 3, 4, 5]\n",
      "Length: 5, dtype: int32\n"
     ]
    }
   ],
   "source": [
    "import pandas as pd\n",
    "\n",
    "# create Pandas array with dtype integer\n",
    "pd_arr = pd.array(data=[1,2,3,4,5],dtype=int)\n",
    "  \n",
    "# print the formed array\n",
    "print(pd_arr)"
   ]
  },
  {
   "cell_type": "markdown",
   "id": "b7855548",
   "metadata": {},
   "source": [
    "#### 2. Write a Pandas program to add, subtract, multiple and divide two Pandas Series."
   ]
  },
  {
   "cell_type": "code",
   "execution_count": 6,
   "id": "737bc31d",
   "metadata": {},
   "outputs": [
    {
     "name": "stdout",
     "output_type": "stream",
     "text": [
      "Pandas Array One <PandasArray>\n",
      "[1, 2, 3, 4, 5]\n",
      "Length: 5, dtype: int32\n",
      "Pandas Array Two <PandasArray>\n",
      "[11, 44, 33, 44, 55]\n",
      "Length: 5, dtype: int32\n",
      "Add Result: <PandasArray>\n",
      "[12, 46, 36, 48, 60]\n",
      "Length: 5, dtype: int32\n",
      "Subtract Result: <PandasArray>\n",
      "[10, 42, 30, 40, 50]\n",
      "Length: 5, dtype: int32\n",
      "Multiply Result: <PandasArray>\n",
      "[11, 88, 99, 176, 275]\n",
      "Length: 5, dtype: int32\n",
      "Divide Result: <PandasArray>\n",
      "[11.0, 22.0, 11.0, 11.0, 11.0]\n",
      "Length: 5, dtype: float64\n"
     ]
    }
   ],
   "source": [
    "# create Pandas array with dtype integer\n",
    "pd_arr1 = pd.array(data=[1,2,3,4,5],dtype=int)\n",
    "pd_arr2 = pd.array(data=[11,44,33,44,55],dtype=int)\n",
    "  \n",
    "# print the formed array\n",
    "print(\"Pandas Array One\", pd_arr1)\n",
    "print(\"Pandas Array Two\", pd_arr2)\n",
    "\n",
    "print(\"Add Result:\", pd_arr2+pd_arr1)\n",
    "print(\"Subtract Result:\", pd_arr2-pd_arr1)\n",
    "print(\"Multiply Result:\", pd_arr2*pd_arr1)\n",
    "print(\"Divide Result:\", pd_arr2/pd_arr1)"
   ]
  },
  {
   "cell_type": "markdown",
   "id": "c7ce4ea7",
   "metadata": {},
   "source": [
    "#### 3. Write a Pandas program to convert a NumPy array to a Pandas series.( For example:\n",
    "NumPy array:\n",
    "[10 20 30 40 50]\n",
    "\n",
    "Converted Pandas series:\n",
    "\n",
    "0 10\n",
    "\n",
    "1 20\n",
    "\n",
    "2 30\n",
    "\n",
    "3 40\n",
    "\n",
    "4 50"
   ]
  },
  {
   "cell_type": "code",
   "execution_count": 9,
   "id": "c05e06d4",
   "metadata": {},
   "outputs": [
    {
     "name": "stdout",
     "output_type": "stream",
     "text": [
      "NumPy Array [10 20 30 40 50]\n",
      "Pandas Series : \n"
     ]
    },
    {
     "data": {
      "text/plain": [
       "0    10\n",
       "1    20\n",
       "2    30\n",
       "3    40\n",
       "4    50\n",
       "dtype: int32"
      ]
     },
     "metadata": {},
     "output_type": "display_data"
    }
   ],
   "source": [
    "import numpy as np\n",
    "#Creating 1-D array having 5 element\n",
    "arr = np.array([10,20,30,40,50])\n",
    "\n",
    "print(\"NumPy Array\", arr)\n",
    "\n",
    "# converting the NumPy array \n",
    "# to a Pandas series\n",
    "series = pd.Series(arr) \n",
    "  \n",
    "# displaying the Pandas series\n",
    "print(\"Pandas Series : \")\n",
    "display(series)"
   ]
  },
  {
   "cell_type": "markdown",
   "id": "f05c13d6",
   "metadata": {},
   "source": [
    "#### 4. Write a Pandas program to convert the first column of a DataFrame as a Series.\n",
    "(Example: Sample Output:\n",
    "\n",
    "Original DataFrame\n",
    "\n",
    "col1 col2 col3\n",
    "\n",
    "0 1 4 7\n",
    "\n",
    "1 2 5 5\n",
    "\n",
    "2 3 6 8\n",
    "\n",
    "3 4 9 12\n",
    "\n",
    "4 7 5 1\n",
    "\n",
    "5 11 0 11\n",
    "\n",
    "1st column as a Series:\n",
    "\n",
    "0 1\n",
    "\n",
    "1 2\n",
    "\n",
    "2 3\n",
    "\n",
    "3 4\n",
    "\n",
    "4 7\n",
    "\n",
    "5 11"
   ]
  },
  {
   "cell_type": "code",
   "execution_count": 13,
   "id": "9ec80f34",
   "metadata": {},
   "outputs": [
    {
     "name": "stdout",
     "output_type": "stream",
     "text": [
      "[[ 1  4  7]\n",
      " [ 2  5  5]\n",
      " [ 3  6  8]\n",
      " [ 4  9 12]\n",
      " [ 7  5  1]\n",
      " [11  0 11]]\n",
      "   col1  col2  col3\n",
      "0     1     4     7\n",
      "1     2     5     5\n",
      "2     3     6     8\n",
      "3     4     9    12\n",
      "4     7     5     1\n",
      "5    11     0    11\n"
     ]
    },
    {
     "data": {
      "text/plain": [
       "0     1\n",
       "1     2\n",
       "2     3\n",
       "3     4\n",
       "4     7\n",
       "5    11\n",
       "Name: col1, dtype: int32"
      ]
     },
     "metadata": {},
     "output_type": "display_data"
    },
    {
     "name": "stdout",
     "output_type": "stream",
     "text": [
      "<class 'pandas.core.series.Series'>\n"
     ]
    }
   ],
   "source": [
    "my_array = np.array([[1,4,7],[2,5,5],[3,6,8],[4,9,12],[7,5,1],[11,0,11]])\n",
    "\n",
    "print(my_array)\n",
    "\n",
    "df = pd.DataFrame(my_array, columns = ['col1','col2','col3'])\n",
    "\n",
    "print(df)\n",
    "\n",
    "my_series = df['col1'].squeeze()\n",
    "\n",
    "display(my_series)\n",
    "\n",
    "print(type(my_series))"
   ]
  },
  {
   "cell_type": "markdown",
   "id": "abf46ad2",
   "metadata": {},
   "source": [
    "#### 5. Write a Pandas program to convert a given Series to an array.\n",
    "( Example:\n",
    "Sample Output:\n",
    "\n",
    "Original Data Series:\n",
    "\n",
    "0 100\n",
    "\n",
    "1 200\n",
    "\n",
    "2 python\n",
    "\n",
    "3 300.12\n",
    "\n",
    "4 400\n",
    "\n",
    "dtype: object\n",
    "\n",
    "Series to an array\n",
    "\n",
    "['100' '200' 'python' '300.12' '400']"
   ]
  },
  {
   "cell_type": "code",
   "execution_count": 18,
   "id": "8d013467",
   "metadata": {},
   "outputs": [
    {
     "name": "stdout",
     "output_type": "stream",
     "text": [
      "0       100\n",
      "1       200\n",
      "2    python\n",
      "3    300.12\n",
      "4       400\n",
      "dtype: object\n",
      "<class 'pandas.core.series.Series'>\n",
      "Series to an array\n",
      "['100' '200' 'python' '300.12' '400']\n",
      "<class 'numpy.ndarray'>\n"
     ]
    }
   ],
   "source": [
    "data = np.array([100,200,'python',300.12, 400])\n",
    "s = pd.Series(data)\n",
    "print(s)\n",
    "print(type(s))\n",
    "\n",
    "print(\"Series to an array\")\n",
    "a = np.array(s.values.tolist())\n",
    "print (a)\n",
    "print(type(a))"
   ]
  },
  {
   "cell_type": "markdown",
   "id": "852cc344",
   "metadata": {},
   "source": [
    "#### 6. Write a Pandas program to sort a given Series."
   ]
  },
  {
   "cell_type": "code",
   "execution_count": 19,
   "id": "12d9f1c1",
   "metadata": {},
   "outputs": [
    {
     "name": "stdout",
     "output_type": "stream",
     "text": [
      "Unsorted Pandas Series: \n",
      " 0     18\n",
      "1     15\n",
      "2     66\n",
      "3     92\n",
      "4     55\n",
      "5    989\n",
      "dtype: int64\n",
      "\n",
      "Sorted Pandas Series: \n",
      " 1     15\n",
      "0     18\n",
      "4     55\n",
      "2     66\n",
      "3     92\n",
      "5    989\n",
      "dtype: int64\n"
     ]
    }
   ],
   "source": [
    "panda_series = pd.Series([18,15,66,92,55,989])\n",
    "print(\"Unsorted Pandas Series: \\n\", panda_series)\n",
    "\n",
    "panda_series_sorted = panda_series.sort_values(ascending = True)\n",
    "print(\"\\nSorted Pandas Series: \\n\", panda_series_sorted)"
   ]
  },
  {
   "cell_type": "markdown",
   "id": "2137596d",
   "metadata": {},
   "source": [
    "#### 7. Write a Pandas program to create a subset of a given series based on value and condition."
   ]
  },
  {
   "cell_type": "code",
   "execution_count": 22,
   "id": "15a65416",
   "metadata": {},
   "outputs": [
    {
     "name": "stdout",
     "output_type": "stream",
     "text": [
      "Original Data Series:\n",
      "0      0\n",
      "1      1\n",
      "2      2\n",
      "3      3\n",
      "4      4\n",
      "5      5\n",
      "6      6\n",
      "7      7\n",
      "8      8\n",
      "9      9\n",
      "10    10\n",
      "dtype: int64\n",
      "\n",
      "Subset of the above Data Series:\n",
      "0    0\n",
      "1    1\n",
      "2    2\n",
      "3    3\n",
      "4    4\n",
      "5    5\n",
      "dtype: int64\n"
     ]
    }
   ],
   "source": [
    "import pandas as pd\n",
    "s = pd.Series([0, 1,2,3,4,5,6,7,8,9,10])\n",
    "print(\"Original Data Series:\")\n",
    "print(s)\n",
    "print(\"\\nSubset of the above Data Series:\")\n",
    "n = 6\n",
    "new_s = s[s < n]\n",
    "print(new_s)"
   ]
  },
  {
   "cell_type": "markdown",
   "id": "4db4c858",
   "metadata": {},
   "source": [
    "#### 8. Write a Pandas program to change the order of index of a given series."
   ]
  },
  {
   "cell_type": "code",
   "execution_count": 20,
   "id": "3d270c78",
   "metadata": {},
   "outputs": [
    {
     "data": {
      "text/plain": [
       "3    competitive coding\n",
       "2       content writing\n",
       "1           Android dev\n",
       "dtype: object"
      ]
     },
     "execution_count": 20,
     "metadata": {},
     "output_type": "execute_result"
    }
   ],
   "source": [
    "# create numpy array\n",
    "data = np.array([\"Android dev\",\n",
    "                 \"content writing\",\n",
    "                 \"competitive coding\"])\n",
    "# create a series\n",
    "total_series = pd.Series(data,\n",
    "                         index = [1, 2, 3])\n",
    "# reindexing of series\n",
    "total_series = total_series.reindex(index\n",
    "                                    = [3, 2, 1])\n",
    "# show the series\n",
    "total_series"
   ]
  },
  {
   "cell_type": "markdown",
   "id": "cce32364",
   "metadata": {},
   "source": [
    "#### 9. Write a Pandas program to get the items of a given series not present in another given series."
   ]
  },
  {
   "cell_type": "code",
   "execution_count": 21,
   "id": "e08d14e5",
   "metadata": {},
   "outputs": [
    {
     "name": "stdout",
     "output_type": "stream",
     "text": [
      "Original Series:\n",
      "sr1:\n",
      "0    1\n",
      "1    2\n",
      "2    3\n",
      "3    4\n",
      "4    5\n",
      "dtype: int64\n",
      "sr2:\n",
      "0     2\n",
      "1     4\n",
      "2     6\n",
      "3     8\n",
      "4    10\n",
      "dtype: int64\n",
      "\n",
      "Items of sr1 not present in sr2:\n",
      "0    1\n",
      "2    3\n",
      "4    5\n",
      "dtype: int64\n"
     ]
    }
   ],
   "source": [
    "sr1 = pd.Series([1, 2, 3, 4, 5])\n",
    "sr2 = pd.Series([2, 4, 6, 8, 10])\n",
    "print(\"Original Series:\")\n",
    "print(\"sr1:\")\n",
    "print(sr1)\n",
    "print(\"sr2:\")\n",
    "print(sr2)\n",
    "print(\"\\nItems of sr1 not present in sr2:\")\n",
    "result = sr1[~sr1.isin(sr2)]\n",
    "print(result)"
   ]
  },
  {
   "cell_type": "markdown",
   "id": "9811644f",
   "metadata": {},
   "source": [
    "#### 10. Write a Pandas program to get the items which are not common of two given series."
   ]
  },
  {
   "cell_type": "code",
   "execution_count": 23,
   "id": "de930f1a",
   "metadata": {},
   "outputs": [
    {
     "name": "stdout",
     "output_type": "stream",
     "text": [
      "Original Series:\n",
      "sr1:\n",
      "0    1\n",
      "1    2\n",
      "2    3\n",
      "3    4\n",
      "4    5\n",
      "dtype: int64\n",
      "sr2:\n",
      "0     2\n",
      "1     4\n",
      "2     6\n",
      "3     8\n",
      "4    10\n",
      "dtype: int64\n",
      "\n",
      "Items of a given series not present in another given series:\n",
      "0     1\n",
      "2     3\n",
      "4     5\n",
      "5     6\n",
      "6     8\n",
      "7    10\n",
      "dtype: int64\n"
     ]
    }
   ],
   "source": [
    "sr1 = pd.Series([1, 2, 3, 4, 5])\n",
    "sr2 = pd.Series([2, 4, 6, 8, 10])\n",
    "print(\"Original Series:\")\n",
    "print(\"sr1:\")\n",
    "print(sr1)\n",
    "print(\"sr2:\")\n",
    "print(sr2)\n",
    "print(\"\\nItems of a given series not present in another given series:\")\n",
    "sr11 = pd.Series(np.union1d(sr1, sr2))\n",
    "sr22 = pd.Series(np.intersect1d(sr1, sr2))\n",
    "result = sr11[~sr11.isin(sr22)]\n",
    "print(result)"
   ]
  },
  {
   "cell_type": "code",
   "execution_count": null,
   "id": "be95c346",
   "metadata": {},
   "outputs": [],
   "source": []
  }
 ],
 "metadata": {
  "kernelspec": {
   "display_name": "Python 3 (ipykernel)",
   "language": "python",
   "name": "python3"
  },
  "language_info": {
   "codemirror_mode": {
    "name": "ipython",
    "version": 3
   },
   "file_extension": ".py",
   "mimetype": "text/x-python",
   "name": "python",
   "nbconvert_exporter": "python",
   "pygments_lexer": "ipython3",
   "version": "3.9.7"
  }
 },
 "nbformat": 4,
 "nbformat_minor": 5
}
